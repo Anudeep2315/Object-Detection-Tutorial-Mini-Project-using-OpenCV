{
 "cells": [
  {
   "cell_type": "markdown",
   "metadata": {},
   "source": [
    "### Detecting the cars in the video using OpenCV Library"
   ]
  },
  {
   "cell_type": "code",
   "execution_count": 1,
   "metadata": {},
   "outputs": [],
   "source": [
    "import cv2\n",
    "\n",
    "file = \"traffic1.avi\"\n",
    "cap = cv2.VideoCapture(file)\n",
    "\n",
    "# Logic of reference frame\n",
    "# if we can subtract the frame without cars(first frame in this case) from frame with cars, then we will be left with frame with cars alone\n",
    "ref_frame = None\n",
    "# define image area\n",
    "Image_area = None\n",
    "\n",
    "while True:\n",
    "    ret,frame = cap.read()\n",
    "    # for every frame available in the video, ret variable returns TRUE\n",
    "    # but at the end of video, when there is no next frame avaialble\n",
    "    # then the ret returns FALSE and we will get an error\n",
    "    # so we are writing if condition as below, in this case, when ret is FALSE\n",
    "    # the video window closes automatically with no error\n",
    "    if ret is False:\n",
    "        break\n",
    "    else:\n",
    "        if ref_frame is None:\n",
    "            ref_frame = frame\n",
    "            ref_frame =cv2.cvtColor(ref_frame,cv2.COLOR_BGR2GRAY)\n",
    "            Image_area = ref_frame.shape[0]*ref_frame.shape[1]\n",
    "            continue    \n",
    "        \n",
    "        #step -1 : convert to gray scale\n",
    "        gray = cv2.cvtColor(frame,cv2.COLOR_BGR2GRAY)\n",
    "        \n",
    "        #step -2 : apply reference frame logic\n",
    "        difference = cv2.absdiff(ref_frame,gray)\n",
    "        # use filters to remove the noise to have even better thresh frame\n",
    "        blur = cv2.medianBlur(difference,31)\n",
    "        \n",
    "        # step -3 : Set the Threshold\n",
    "        # the threshold is not that good, let;s try removing OTSU and \n",
    "        # giving manual threh value\n",
    "        #f, thresh = cv2.threshold(gray,0,255,cv2.THRESH_BINARY+cv2.THRESH_OTSU)\n",
    "        f, thresh = cv2.threshold(blur,20,255,cv2.THRESH_BINARY)\n",
    "        \n",
    "        #step -4 : Finding contours\n",
    "        (_,contours,_) = cv2.findContours(thresh,cv2.RETR_TREE,cv2.CHAIN_APPROX_SIMPLE)\n",
    "        #print(len(contours))\n",
    "        \n",
    "        # step -5 : Draw the contours\n",
    "        # contours should be drawn on the original frames\n",
    "        #cv2.drawContours(frame,contours,-1,(0,0,255),2)\n",
    "        \n",
    "        #step -6 : Let's draw bounding boxes to make it look more specific\n",
    "        for i in contours:\n",
    "            # step -7 : Remove False Contours by using AREA\n",
    "            contour_area = cv2.contourArea(i)\n",
    "            if (contour_area > 0.001*Image_area) and (contour_area < 0.1*Image_area):\n",
    "                (x,y,w,h) = cv2.boundingRect(i)\n",
    "                cv2.rectangle(frame,(x,y),(x+w,y+h),(0,0,255),2)\n",
    "        \n",
    "        \n",
    "        #resize the window\n",
    "        cv2.namedWindow('Video',cv2.WINDOW_NORMAL)\n",
    "        cv2.resizeWindow(\"Video\",600,600)\n",
    "        #visualize threshold frames\n",
    "        #cv2.imshow(\"Video\",thresh)\n",
    "        #visualize original frames\n",
    "        cv2.imshow(\"Video\",frame)\n",
    "    \n",
    "        keypress = cv2.waitKey(1)\n",
    "        if keypress == ord('q'):\n",
    "            break   \n",
    "    \n",
    "cv2.destroyAllWindows()"
   ]
  },
  {
   "cell_type": "code",
   "execution_count": null,
   "metadata": {},
   "outputs": [],
   "source": []
  }
 ],
 "metadata": {
  "kernelspec": {
   "display_name": "Python 3",
   "language": "python",
   "name": "python3"
  },
  "language_info": {
   "codemirror_mode": {
    "name": "ipython",
    "version": 3
   },
   "file_extension": ".py",
   "mimetype": "text/x-python",
   "name": "python",
   "nbconvert_exporter": "python",
   "pygments_lexer": "ipython3",
   "version": "3.7.1"
  }
 },
 "nbformat": 4,
 "nbformat_minor": 2
}
